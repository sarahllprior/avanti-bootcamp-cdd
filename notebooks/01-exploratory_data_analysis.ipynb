{
 "cells": [
  {
   "cell_type": "markdown",
   "metadata": {},
   "source": [
    "# Análise exploratória de dados"
   ]
  },
  {
   "cell_type": "code",
   "execution_count": 5,
   "metadata": {},
   "outputs": [],
   "source": [
    "import pandas as pd\n",
    "import numpy as np\n",
    "import seaborn as sns"
   ]
  },
  {
   "cell_type": "markdown",
   "metadata": {},
   "source": [
    "## 1. Coleta de Dados"
   ]
  },
  {
   "cell_type": "code",
   "execution_count": 6,
   "metadata": {},
   "outputs": [],
   "source": [
    "titanic = sns.load_dataset('titanic')\n",
    "titanic.to_csv('../data/raw/data.csv', index=False)"
   ]
  },
  {
   "cell_type": "code",
   "execution_count": 7,
   "metadata": {
    "tags": []
   },
   "outputs": [
    {
     "data": {
      "text/html": [
       "<div>\n",
       "<style scoped>\n",
       "    .dataframe tbody tr th:only-of-type {\n",
       "        vertical-align: middle;\n",
       "    }\n",
       "\n",
       "    .dataframe tbody tr th {\n",
       "        vertical-align: top;\n",
       "    }\n",
       "\n",
       "    .dataframe thead th {\n",
       "        text-align: right;\n",
       "    }\n",
       "</style>\n",
       "<table border=\"1\" class=\"dataframe\">\n",
       "  <thead>\n",
       "    <tr style=\"text-align: right;\">\n",
       "      <th></th>\n",
       "      <th>survived</th>\n",
       "      <th>pclass</th>\n",
       "      <th>sex</th>\n",
       "      <th>age</th>\n",
       "      <th>sibsp</th>\n",
       "      <th>parch</th>\n",
       "      <th>fare</th>\n",
       "      <th>embarked</th>\n",
       "      <th>class</th>\n",
       "      <th>who</th>\n",
       "      <th>adult_male</th>\n",
       "      <th>deck</th>\n",
       "      <th>embark_town</th>\n",
       "      <th>alive</th>\n",
       "      <th>alone</th>\n",
       "    </tr>\n",
       "  </thead>\n",
       "  <tbody>\n",
       "    <tr>\n",
       "      <th>0</th>\n",
       "      <td>0</td>\n",
       "      <td>3</td>\n",
       "      <td>male</td>\n",
       "      <td>22.0</td>\n",
       "      <td>1</td>\n",
       "      <td>0</td>\n",
       "      <td>7.2500</td>\n",
       "      <td>S</td>\n",
       "      <td>Third</td>\n",
       "      <td>man</td>\n",
       "      <td>True</td>\n",
       "      <td>NaN</td>\n",
       "      <td>Southampton</td>\n",
       "      <td>no</td>\n",
       "      <td>False</td>\n",
       "    </tr>\n",
       "    <tr>\n",
       "      <th>1</th>\n",
       "      <td>1</td>\n",
       "      <td>1</td>\n",
       "      <td>female</td>\n",
       "      <td>38.0</td>\n",
       "      <td>1</td>\n",
       "      <td>0</td>\n",
       "      <td>71.2833</td>\n",
       "      <td>C</td>\n",
       "      <td>First</td>\n",
       "      <td>woman</td>\n",
       "      <td>False</td>\n",
       "      <td>C</td>\n",
       "      <td>Cherbourg</td>\n",
       "      <td>yes</td>\n",
       "      <td>False</td>\n",
       "    </tr>\n",
       "    <tr>\n",
       "      <th>2</th>\n",
       "      <td>1</td>\n",
       "      <td>3</td>\n",
       "      <td>female</td>\n",
       "      <td>26.0</td>\n",
       "      <td>0</td>\n",
       "      <td>0</td>\n",
       "      <td>7.9250</td>\n",
       "      <td>S</td>\n",
       "      <td>Third</td>\n",
       "      <td>woman</td>\n",
       "      <td>False</td>\n",
       "      <td>NaN</td>\n",
       "      <td>Southampton</td>\n",
       "      <td>yes</td>\n",
       "      <td>True</td>\n",
       "    </tr>\n",
       "    <tr>\n",
       "      <th>3</th>\n",
       "      <td>1</td>\n",
       "      <td>1</td>\n",
       "      <td>female</td>\n",
       "      <td>35.0</td>\n",
       "      <td>1</td>\n",
       "      <td>0</td>\n",
       "      <td>53.1000</td>\n",
       "      <td>S</td>\n",
       "      <td>First</td>\n",
       "      <td>woman</td>\n",
       "      <td>False</td>\n",
       "      <td>C</td>\n",
       "      <td>Southampton</td>\n",
       "      <td>yes</td>\n",
       "      <td>False</td>\n",
       "    </tr>\n",
       "    <tr>\n",
       "      <th>4</th>\n",
       "      <td>0</td>\n",
       "      <td>3</td>\n",
       "      <td>male</td>\n",
       "      <td>35.0</td>\n",
       "      <td>0</td>\n",
       "      <td>0</td>\n",
       "      <td>8.0500</td>\n",
       "      <td>S</td>\n",
       "      <td>Third</td>\n",
       "      <td>man</td>\n",
       "      <td>True</td>\n",
       "      <td>NaN</td>\n",
       "      <td>Southampton</td>\n",
       "      <td>no</td>\n",
       "      <td>True</td>\n",
       "    </tr>\n",
       "  </tbody>\n",
       "</table>\n",
       "</div>"
      ],
      "text/plain": [
       "   survived  pclass     sex   age  sibsp  parch     fare embarked  class  \\\n",
       "0         0       3    male  22.0      1      0   7.2500        S  Third   \n",
       "1         1       1  female  38.0      1      0  71.2833        C  First   \n",
       "2         1       3  female  26.0      0      0   7.9250        S  Third   \n",
       "3         1       1  female  35.0      1      0  53.1000        S  First   \n",
       "4         0       3    male  35.0      0      0   8.0500        S  Third   \n",
       "\n",
       "     who  adult_male deck  embark_town alive  alone  \n",
       "0    man        True  NaN  Southampton    no  False  \n",
       "1  woman       False    C    Cherbourg   yes  False  \n",
       "2  woman       False  NaN  Southampton   yes   True  \n",
       "3  woman       False    C  Southampton   yes  False  \n",
       "4    man        True  NaN  Southampton    no   True  "
      ]
     },
     "execution_count": 7,
     "metadata": {},
     "output_type": "execute_result"
    }
   ],
   "source": [
    "titanic.head()"
   ]
  },
  {
   "cell_type": "markdown",
   "metadata": {
    "tags": []
   },
   "source": [
    "## 1. Dicionário de dados"
   ]
  },
  {
   "cell_type": "code",
   "execution_count": 8,
   "metadata": {
    "tags": []
   },
   "outputs": [],
   "source": [
    "dicionario= pd.DataFrame([\n",
    "    {\"variavel\": \"survived\",\n",
    "     \"descricao\":\"Informa se sobreviveu ou não aou naufragio. 0=nao 1=sim\",\n",
    "     \"tipo\": \"qualitativa\",\n",
    "     \"subtipo\": \"nominal\"},\n",
    "    \n",
    "    {\"variavel\": \"pclass\",\n",
    "     \"descricao\": \"Classe do passageiro. 1 = 1ª classe, 2 = 2ª classe, 3 = 3ª classe\",\n",
    "     \"tipo\": \"qualitativa\",\n",
    "     \"subtipo\": \"ordinal\"},\n",
    "    \n",
    "    {\"variavel\": \"sex\",\n",
    "     \"descricao\": \"Sexo do passageiro. male=masculino, female=feminino\",\n",
    "     \"tipo\": \"qualitativa\",\n",
    "     \"subtipo\": \"nominal\"},\n",
    "    \n",
    "    {\"variavel\": \"age\",\n",
    "     \"descricao\": \"Idade do passageiro\",\n",
    "     \"tipo\": \"quantitativa\",\n",
    "     \"subtipo\": \"discreta\"},\n",
    "    \n",
    "    {\"variavel\": \"sibsp\",\n",
    "     \"descricao\": \"Número de irmãos e/ou companheiro abordo\",\n",
    "     \"tipo\": \"quantitativa\",\n",
    "     \"subtipo\": \"discreta\"},\n",
    "    \n",
    "    {\"variavel\": \"parch\",\n",
    "     \"descricao\": \"Número de pais e/ou filhos abordo\",\n",
    "     \"tipo\": \"quantitativa\",\n",
    "     \"subtipo\": \"discreta\"},\n",
    "    \n",
    "    {\"variavel\": \"fare\",\n",
    "     \"descricao\": \"Valor pago pela passagem\",\n",
    "     \"tipo\": \"quantitativa\",\n",
    "     \"subtipo\": \"continua\"},\n",
    "    \n",
    "    {\"variavel\": \"embarked\",\n",
    "     \"descricao\": \"Nome do porto onde embarcou\",\n",
    "     \"tipo\": \"qualitativa\",\n",
    "     \"subtipo\": \"nominal\"},\n",
    "    \n",
    "    {\"variavel\": \"class\",\n",
    "     \"descricao\": \"Equivalente ao pclass. 1 = 1ª classe, 2 = 2ª classe, 3 = 3ª classe\",\n",
    "     \"tipo\": \"qualitativa\",\n",
    "     \"subtipo\": \"ordinal\"},\n",
    "    \n",
    "    {\"variavel\": \"who\",\n",
    "     \"descricao\": \"Categoria do passageiro. Homem, mulher ou criança\",\n",
    "     \"tipo\": \"qualitativa\",\n",
    "     \"subtipo\": \"nominal\"},\n",
    "    \n",
    "    {\"variavel\": \"adult_male\",\n",
    "     \"descricao\": \"Verifica se o passageiro é um homem adulto ou não. False=nao True=sim\",\n",
    "     \"tipo\": \"qualitativa\",\n",
    "     \"subtipo\": \"nominal\"},\n",
    "    \n",
    "    {\"variavel\": \"deck\",\n",
    "     \"descricao\": \"Área onde a cabine do passageiro está localizada\",\n",
    "     \"tipo\": \"qualitativa\",\n",
    "     \"subtipo\": \"nominal\"},\n",
    "    \n",
    "    {\"variavel\": \"embark_town\",\n",
    "     \"descricao\": \"Cidade onde o passageiro embarcou\",\n",
    "     \"tipo\": \"qualitativa\",\n",
    "     \"subtipo\": \"nominal\"},\n",
    "    \n",
    "    {\"variavel\": \"alive\",\n",
    "     \"descricao\": \"Verifica se o passageiro sobreviveu ou não. False=nao True=sim\", \n",
    "     \"tipo\": \"qualitativa\",\n",
    "     \"subtipo\": \"nominal\"},\n",
    "    \n",
    "    {\"variavel\": \"alone\",\n",
    "     \"descricao\": \"Verifica se o passageiro estava sozinho no navio ou não. False=nao True=sim\",\n",
    "     \"tipo\": \"qualitativa\",\n",
    "     \"subtipo\": \"nominal\"}])"
   ]
  },
  {
   "cell_type": "code",
   "execution_count": 9,
   "metadata": {
    "tags": []
   },
   "outputs": [
    {
     "data": {
      "text/html": [
       "<div>\n",
       "<style scoped>\n",
       "    .dataframe tbody tr th:only-of-type {\n",
       "        vertical-align: middle;\n",
       "    }\n",
       "\n",
       "    .dataframe tbody tr th {\n",
       "        vertical-align: top;\n",
       "    }\n",
       "\n",
       "    .dataframe thead th {\n",
       "        text-align: right;\n",
       "    }\n",
       "</style>\n",
       "<table border=\"1\" class=\"dataframe\">\n",
       "  <thead>\n",
       "    <tr style=\"text-align: right;\">\n",
       "      <th></th>\n",
       "      <th>variavel</th>\n",
       "      <th>descricao</th>\n",
       "      <th>tipo</th>\n",
       "      <th>subtipo</th>\n",
       "    </tr>\n",
       "  </thead>\n",
       "  <tbody>\n",
       "    <tr>\n",
       "      <th>0</th>\n",
       "      <td>survived</td>\n",
       "      <td>Informa se sobreviveu ou não aou naufragio. 0=...</td>\n",
       "      <td>qualitativa</td>\n",
       "      <td>nominal</td>\n",
       "    </tr>\n",
       "    <tr>\n",
       "      <th>1</th>\n",
       "      <td>pclass</td>\n",
       "      <td>Classe do passageiro. 1 = 1ª classe, 2 = 2ª cl...</td>\n",
       "      <td>qualitativa</td>\n",
       "      <td>ordinal</td>\n",
       "    </tr>\n",
       "    <tr>\n",
       "      <th>2</th>\n",
       "      <td>sex</td>\n",
       "      <td>Sexo do passageiro. male=masculino, female=fem...</td>\n",
       "      <td>qualitativa</td>\n",
       "      <td>nominal</td>\n",
       "    </tr>\n",
       "    <tr>\n",
       "      <th>3</th>\n",
       "      <td>age</td>\n",
       "      <td>Idade do passageiro</td>\n",
       "      <td>quantitativa</td>\n",
       "      <td>discreta</td>\n",
       "    </tr>\n",
       "    <tr>\n",
       "      <th>4</th>\n",
       "      <td>sibsp</td>\n",
       "      <td>Número de irmãos e/ou companheiro abordo</td>\n",
       "      <td>quantitativa</td>\n",
       "      <td>discreta</td>\n",
       "    </tr>\n",
       "    <tr>\n",
       "      <th>5</th>\n",
       "      <td>parch</td>\n",
       "      <td>Número de pais e/ou filhos abordo</td>\n",
       "      <td>quantitativa</td>\n",
       "      <td>discreta</td>\n",
       "    </tr>\n",
       "    <tr>\n",
       "      <th>6</th>\n",
       "      <td>fare</td>\n",
       "      <td>Valor pago pela passagem</td>\n",
       "      <td>quantitativa</td>\n",
       "      <td>continua</td>\n",
       "    </tr>\n",
       "    <tr>\n",
       "      <th>7</th>\n",
       "      <td>embarked</td>\n",
       "      <td>Nome do porto onde embarcou</td>\n",
       "      <td>qualitativa</td>\n",
       "      <td>nominal</td>\n",
       "    </tr>\n",
       "    <tr>\n",
       "      <th>8</th>\n",
       "      <td>class</td>\n",
       "      <td>Equivalente ao pclass. 1 = 1ª classe, 2 = 2ª c...</td>\n",
       "      <td>qualitativa</td>\n",
       "      <td>ordinal</td>\n",
       "    </tr>\n",
       "    <tr>\n",
       "      <th>9</th>\n",
       "      <td>who</td>\n",
       "      <td>Categoria do passageiro. Homem, mulher ou criança</td>\n",
       "      <td>qualitativa</td>\n",
       "      <td>nominal</td>\n",
       "    </tr>\n",
       "    <tr>\n",
       "      <th>10</th>\n",
       "      <td>adult_male</td>\n",
       "      <td>Verifica se o passageiro é um homem adulto ou ...</td>\n",
       "      <td>qualitativa</td>\n",
       "      <td>nominal</td>\n",
       "    </tr>\n",
       "    <tr>\n",
       "      <th>11</th>\n",
       "      <td>deck</td>\n",
       "      <td>Área onde a cabine do passageiro está localizada</td>\n",
       "      <td>qualitativa</td>\n",
       "      <td>nominal</td>\n",
       "    </tr>\n",
       "    <tr>\n",
       "      <th>12</th>\n",
       "      <td>embark_town</td>\n",
       "      <td>Cidade onde o passageiro embarcou</td>\n",
       "      <td>qualitativa</td>\n",
       "      <td>nominal</td>\n",
       "    </tr>\n",
       "    <tr>\n",
       "      <th>13</th>\n",
       "      <td>alive</td>\n",
       "      <td>Verifica se o passageiro sobreviveu ou não. Fa...</td>\n",
       "      <td>qualitativa</td>\n",
       "      <td>nominal</td>\n",
       "    </tr>\n",
       "    <tr>\n",
       "      <th>14</th>\n",
       "      <td>alone</td>\n",
       "      <td>Verifica se o passageiro estava sozinho no nav...</td>\n",
       "      <td>qualitativa</td>\n",
       "      <td>nominal</td>\n",
       "    </tr>\n",
       "  </tbody>\n",
       "</table>\n",
       "</div>"
      ],
      "text/plain": [
       "       variavel                                          descricao  \\\n",
       "0      survived  Informa se sobreviveu ou não aou naufragio. 0=...   \n",
       "1        pclass  Classe do passageiro. 1 = 1ª classe, 2 = 2ª cl...   \n",
       "2           sex  Sexo do passageiro. male=masculino, female=fem...   \n",
       "3           age                                Idade do passageiro   \n",
       "4         sibsp           Número de irmãos e/ou companheiro abordo   \n",
       "5         parch                  Número de pais e/ou filhos abordo   \n",
       "6          fare                           Valor pago pela passagem   \n",
       "7      embarked                        Nome do porto onde embarcou   \n",
       "8         class  Equivalente ao pclass. 1 = 1ª classe, 2 = 2ª c...   \n",
       "9           who  Categoria do passageiro. Homem, mulher ou criança   \n",
       "10   adult_male  Verifica se o passageiro é um homem adulto ou ...   \n",
       "11         deck   Área onde a cabine do passageiro está localizada   \n",
       "12  embark_town                  Cidade onde o passageiro embarcou   \n",
       "13        alive  Verifica se o passageiro sobreviveu ou não. Fa...   \n",
       "14        alone  Verifica se o passageiro estava sozinho no nav...   \n",
       "\n",
       "            tipo   subtipo  \n",
       "0    qualitativa   nominal  \n",
       "1    qualitativa   ordinal  \n",
       "2    qualitativa   nominal  \n",
       "3   quantitativa  discreta  \n",
       "4   quantitativa  discreta  \n",
       "5   quantitativa  discreta  \n",
       "6   quantitativa  continua  \n",
       "7    qualitativa   nominal  \n",
       "8    qualitativa   ordinal  \n",
       "9    qualitativa   nominal  \n",
       "10   qualitativa   nominal  \n",
       "11   qualitativa   nominal  \n",
       "12   qualitativa   nominal  \n",
       "13   qualitativa   nominal  \n",
       "14   qualitativa   nominal  "
      ]
     },
     "execution_count": 9,
     "metadata": {},
     "output_type": "execute_result"
    }
   ],
   "source": [
    "dicionario"
   ]
  },
  {
   "cell_type": "code",
   "execution_count": 10,
   "metadata": {
    "tags": []
   },
   "outputs": [],
   "source": [
    "qualitativas=dicionario[dicionario['tipo']=='qualitativa'].variavel.tolist()\n",
    "quantitativas=dicionario[dicionario['tipo']=='quantitativa'].variavel.tolist()"
   ]
  },
  {
   "cell_type": "code",
   "execution_count": 11,
   "metadata": {
    "tags": []
   },
   "outputs": [
    {
     "data": {
      "text/plain": [
       "['age', 'sibsp', 'parch', 'fare']"
      ]
     },
     "execution_count": 11,
     "metadata": {},
     "output_type": "execute_result"
    }
   ],
   "source": [
    "quantitativas"
   ]
  },
  {
   "cell_type": "code",
   "execution_count": 12,
   "metadata": {
    "tags": []
   },
   "outputs": [
    {
     "data": {
      "text/plain": [
       "['survived',\n",
       " 'pclass',\n",
       " 'sex',\n",
       " 'embarked',\n",
       " 'class',\n",
       " 'who',\n",
       " 'adult_male',\n",
       " 'deck',\n",
       " 'embark_town',\n",
       " 'alive',\n",
       " 'alone']"
      ]
     },
     "execution_count": 12,
     "metadata": {},
     "output_type": "execute_result"
    }
   ],
   "source": [
    "qualitativas"
   ]
  },
  {
   "cell_type": "code",
   "execution_count": 13,
   "metadata": {
    "tags": []
   },
   "outputs": [],
   "source": [
    "dicionario.to_csv('../data/external/dicionario.csv', index=False)"
   ]
  },
  {
   "cell_type": "markdown",
   "metadata": {},
   "source": [
    "## 2. Perguntas de partida e hipóteses"
   ]
  },
  {
   "cell_type": "code",
   "execution_count": 14,
   "metadata": {},
   "outputs": [],
   "source": [
    "#1- Será que tem alguma relação entre estar sozinho e mais chances de morrer? Quantas pessoas que estavam \n",
    "#embarcadas sozinha morreram?\n",
    "#2- Será que tem algum relação entre as mortes e área onde a cabine estava localizada no navio? Será que teve \n",
    "#alguma área privilegiada com botes salva-vidas? Qual a taxa de mortalidade por área onde as cabines do navio \n",
    "#estavam?\n",
    "#3- Qual foi o porto que mais passageiros embarcaram?\n",
    "#4- Qual a taxa de homens, mulheres e crianças a bordo?\n",
    "#5- Crianças e mulheres tiveram preferência em pegar os botes salva-vidas? Qual a taxa de mortalidade entre \n",
    "#homens, mulheres e crianças?\n",
    "#6- Será que alguma das classes teve privilegios para usar os botees salva-vidas? Qual a taxa de mortalidade\n",
    "#entre as classes?\n",
    "#7- Qual a taxa de passageiros por classes?\n",
    "#8- Quais as idades dos passageiros? Qual era a faixa etária do público do navio?\n",
    "#9- Qual a relação entre classes e idades?\n"
   ]
  },
  {
   "cell_type": "markdown",
   "metadata": {},
   "source": [
    "## 3. Insights"
   ]
  },
  {
   "cell_type": "code",
   "execution_count": 24,
   "metadata": {},
   "outputs": [],
   "source": [
    "from matplotlib import pyplot as plt\n",
    "import seaborn as sb"
   ]
  },
  {
   "cell_type": "code",
   "execution_count": 45,
   "metadata": {},
   "outputs": [
    {
     "name": "stderr",
     "output_type": "stream",
     "text": [
      "/home/sarah/.cache/pypoetry/virtualenvs/src-jdTou4Wx-py3.10/lib/python3.10/site-packages/seaborn/axisgrid.py:88: UserWarning: The figure layout has changed to tight\n",
      "  self._figure.tight_layout(*args, **kwargs)\n"
     ]
    },
    {
     "data": {
      "text/plain": [
       "<Figure size 400x400 with 0 Axes>"
      ]
     },
     "metadata": {},
     "output_type": "display_data"
    },
    {
     "data": {
      "image/png": "[encoded data removed]",
      "text/plain": [
       "<Figure size 570.486x500 with 1 Axes>"
      ]
     },
     "metadata": {},
     "output_type": "display_data"
    }
   ],
   "source": [
    "#Quero alterar as cores e talvez colocar as legendas em português. Ainda não sei como.\n",
    "plt.figure(figsize=(4,4))\n",
    "sb.catplot(x='sex', hue='survived', kind= \"count\", data=titanic)\n",
    "plt.show()"
   ]
  },
  {
   "cell_type": "code",
   "execution_count": 50,
   "metadata": {
    "tags": []
   },
   "outputs": [
    {
     "data": {
      "image/png": "[encoded data removed]",
      "text/plain": [
       "<Figure size 400x400 with 1 Axes>"
      ]
     },
     "metadata": {},
     "output_type": "display_data"
    }
   ],
   "source": [
    "plt.figure(figsize=(4,4))\n",
    "sb.countplot(x='embark_town', data=titanic)\n",
    "plt.show()"
   ]
  },
  {
   "cell_type": "code",
   "execution_count": 51,
   "metadata": {
    "tags": []
   },
   "outputs": [
    {
     "data": {
      "image/png": "[encoded data removed]",
      "text/plain": [
       "<Figure size 400x400 with 1 Axes>"
      ]
     },
     "metadata": {},
     "output_type": "display_data"
    }
   ],
   "source": [
    "plt.figure(figsize=(4,4))\n",
    "sb.countplot(x='who', data=titanic)\n",
    "plt.show()"
   ]
  },
  {
   "cell_type": "code",
   "execution_count": null,
   "metadata": {},
   "outputs": [],
   "source": []
  }
 ],
 "metadata": {
  "kernelspec": {
   "display_name": "Python 3 (ipykernel)",
   "language": "python",
   "name": "python3"
  },
  "language_info": {
   "codemirror_mode": {
    "name": "ipython",
    "version": 3
   },
   "file_extension": ".py",
   "mimetype": "text/x-python",
   "name": "python",
   "nbconvert_exporter": "python",
   "pygments_lexer": "ipython3",
   "version": "3.10.14"
  },
  "vscode": {
   "interpreter": {
    "hash": "eb3c3305d8b111f0102f4f519c5f17abd113fe74db6752c355e994a9008815ef"
   }
  }
 },
 "nbformat": 4,
 "nbformat_minor": 4
}
